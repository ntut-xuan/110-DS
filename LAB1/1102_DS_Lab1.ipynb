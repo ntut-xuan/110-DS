{
 "cells": [
  {
   "cell_type": "markdown",
   "metadata": {},
   "source": [
    "# Personal Information\n",
    "\n",
    "109590031 資工二 黃漢軒\n",
    "\n",
    "[My website](https://ntut-xuan.github.io)"
   ]
  },
  {
   "cell_type": "markdown",
   "metadata": {},
   "source": [
    "## Math Equation"
   ]
  },
  {
   "cell_type": "markdown",
   "metadata": {},
   "source": [
    "$f(x)=x^{2}+2x+1$"
   ]
  },
  {
   "cell_type": "markdown",
   "metadata": {},
   "source": [
    "$$\\int_a^b f(x) \\, dx $$"
   ]
  },
  {
   "cell_type": "markdown",
   "metadata": {},
   "source": [
    "###  some equation syntax\n",
    "1. Hat: \\hat \n",
    "2. Subscript: _{}  \n",
    "3. Sum: \\sum\n",
    "4. Limits of sum: \\limits _{} ^{}\n",
    "5. Beta: \\beta"
   ]
  },
  {
   "cell_type": "markdown",
   "metadata": {},
   "source": [
    "Example: $\\hat{Y} = \\hat{\\beta}_{0} + \\sum\\limits_{j=1}^{p}  X_{j}\\hat{\\beta}_{j}$"
   ]
  },
  {
   "cell_type": "markdown",
   "metadata": {},
   "source": [
    "### More math syntax\n",
    "1. \\gamma : Creates gamma symbol\n",
    "2. \\displaystyle : Forces display mode. (Ref: Display style in Math mode)\n",
    "3. \\frac{}{} : Creates fraction with two curly braces from numerator and denominator.\n",
    "4. <br> : Creates line breaks\n",
    "5. &emsp; : Creates space.\n",
    "6. \\Bigg : Helps create parenthesis of big sizes. (Ref: Brackets and Parentheses)\n",
    "7. \\partial : Creates partial derivatives symbol"
   ]
  },
  {
   "cell_type": "markdown",
   "metadata": {},
   "source": [
    "## 作業一 第(1)小題:在Jupyter 完成下列方程式"
   ]
  },
  {
   "cell_type": "markdown",
   "metadata": {},
   "source": [
    "![這是作業一方程式](HW1_EQ.png)"
   ]
  },
  {
   "cell_type": "markdown",
   "metadata": {},
   "source": [
    "a=2"
   ]
  },
  {
   "cell_type": "code",
   "execution_count": null,
   "metadata": {},
   "outputs": [
    {
     "data": {
      "text/plain": [
       "4"
      ]
     },
     "execution_count": 2,
     "metadata": {},
     "output_type": "execute_result"
    }
   ],
   "source": [
    "a+2"
   ]
  },
  {
   "cell_type": "code",
   "execution_count": null,
   "metadata": {},
   "outputs": [
    {
     "data": {
      "text/plain": [
       "8"
      ]
     },
     "execution_count": 3,
     "metadata": {},
     "output_type": "execute_result"
    }
   ],
   "source": [
    "a**3"
   ]
  },
  {
   "cell_type": "markdown",
   "metadata": {},
   "source": [
    "## 可以使用中文變數"
   ]
  },
  {
   "cell_type": "code",
   "execution_count": null,
   "metadata": {},
   "outputs": [],
   "source": [
    "長=2"
   ]
  },
  {
   "cell_type": "code",
   "execution_count": null,
   "metadata": {},
   "outputs": [],
   "source": [
    "寬=5\n"
   ]
  },
  {
   "cell_type": "code",
   "execution_count": null,
   "metadata": {},
   "outputs": [
    {
     "data": {
      "text/plain": [
       "10"
      ]
     },
     "execution_count": 8,
     "metadata": {},
     "output_type": "execute_result"
    }
   ],
   "source": [
    "長*寬"
   ]
  },
  {
   "cell_type": "markdown",
   "metadata": {},
   "source": [
    "## 使用\"help\" 或是 \"?\" 查詢指令之參考文件說明"
   ]
  },
  {
   "cell_type": "code",
   "execution_count": null,
   "metadata": {},
   "outputs": [
    {
     "name": "stdout",
     "output_type": "stream",
     "text": [
      "Help on built-in function len in module builtins:\n",
      "\n",
      "len(obj, /)\n",
      "    Return the number of items in a container.\n",
      "\n"
     ]
    }
   ],
   "source": [
    "help(len)"
   ]
  },
  {
   "cell_type": "code",
   "execution_count": null,
   "metadata": {},
   "outputs": [],
   "source": [
    "len?"
   ]
  },
  {
   "cell_type": "markdown",
   "metadata": {},
   "source": [
    "## Magic functions in ipython begin with the percent sign (%)"
   ]
  },
  {
   "cell_type": "code",
   "execution_count": null,
   "metadata": {},
   "outputs": [
    {
     "name": "stdout",
     "output_type": "stream",
     "text": [
      " 磁碟區 C 中的磁碟沒有標籤。\n",
      " 磁碟區序號:  C662-DE4F\n",
      "\n",
      " C:\\Users\\TWP\\Desktop\\1102_DS_Lab1 的目錄\n",
      "\n",
      "2022/03/01  上午 07:59    <DIR>          .\n",
      "2022/03/01  上午 07:59    <DIR>          ..\n",
      "2022/03/01  上午 07:36    <DIR>          .ipynb_checkpoints\n",
      "2022/03/01  上午 07:59            40,698 1102_DS_Lab1.ipynb\n",
      "2020/03/04  上午 11:01            24,282 1102_DS_Lab1_Solution.ipynb\n",
      "2022/02/28  下午 10:38           116,712 anaconda.png\n",
      "2022/02/28  下午 10:49             4,843 EQ_ex1.png\n",
      "2022/02/28  下午 11:24            21,155 HW1_EQ.png\n",
      "2020/03/04  上午 11:03            16,045 markdown.docx\n",
      "2020/03/04  上午 11:03           111,788 markdown.pdf\n",
      "2020/03/04  上午 11:04            88,940 markdown.png\n",
      "2020/03/04  上午 10:30                34 myfirst.py\n",
      "2020/03/04  上午 11:06            19,561 NTUT_CSIE.png\n",
      "2020/03/04  上午 08:30            74,997 toolkits.png\n",
      "              11 個檔案         519,055 位元組\n",
      "               3 個目錄  175,846,334,464 位元組可用\n"
     ]
    }
   ],
   "source": [
    "%ls"
   ]
  },
  {
   "cell_type": "code",
   "execution_count": null,
   "metadata": {},
   "outputs": [
    {
     "name": "stdout",
     "output_type": "stream",
     "text": [
      "C:\\Users\\TWP\\Desktop\n"
     ]
    }
   ],
   "source": [
    "%cd C:\\Users\\TWP\\Desktop"
   ]
  },
  {
   "cell_type": "code",
   "execution_count": null,
   "metadata": {},
   "outputs": [
    {
     "name": "stdout",
     "output_type": "stream",
     "text": [
      "C:\\twp2019\n"
     ]
    }
   ],
   "source": [
    "%cd C:\\twp2019"
   ]
  },
  {
   "cell_type": "code",
   "execution_count": null,
   "metadata": {},
   "outputs": [
    {
     "name": "stdout",
     "output_type": "stream",
     "text": [
      "C:\\Users\\TWP\n"
     ]
    }
   ],
   "source": [
    "%cd "
   ]
  },
  {
   "cell_type": "code",
   "execution_count": null,
   "metadata": {},
   "outputs": [
    {
     "data": {
      "text/plain": [
       "'C:\\\\Users\\\\TWP'"
      ]
     },
     "execution_count": 25,
     "metadata": {},
     "output_type": "execute_result"
    }
   ],
   "source": [
    "%pwd"
   ]
  },
  {
   "cell_type": "code",
   "execution_count": null,
   "metadata": {},
   "outputs": [
    {
     "name": "stdout",
     "output_type": "stream",
     "text": [
      "Populating the interactive namespace from numpy and matplotlib\n"
     ]
    }
   ],
   "source": [
    "%pylab inline"
   ]
  },
  {
   "cell_type": "code",
   "execution_count": null,
   "metadata": {},
   "outputs": [
    {
     "data": {
      "text/plain": [
       "[<matplotlib.lines.Line2D at 0x1e1b61772b0>]"
      ]
     },
     "execution_count": 10,
     "metadata": {},
     "output_type": "execute_result"
    },
    {
     "data": {
      "image/png": "[encoded data removed]",
      "text/plain": [
       "<Figure size 432x288 with 1 Axes>"
      ]
     },
     "metadata": {
      "needs_background": "light"
     },
     "output_type": "display_data"
    }
   ],
   "source": [
    "plot([1,-2,3,0])"
   ]
  },
  {
   "cell_type": "code",
   "execution_count": null,
   "metadata": {},
   "outputs": [
    {
     "data": {
      "text/plain": [
       "[<matplotlib.lines.Line2D at 0x1e1b63fb978>]"
      ]
     },
     "execution_count": 17,
     "metadata": {},
     "output_type": "execute_result"
    },
    {
     "data": {
      "image/png": "[encoded data removed]",
      "text/plain": [
       "<Figure size 432x288 with 1 Axes>"
      ]
     },
     "metadata": {
      "needs_background": "light"
     },
     "output_type": "display_data"
    }
   ],
   "source": [
    "plot(0,0, marker='*', markersize=120, color= 'b', markeredgecolor='r', markeredgewidth = 5 )"
   ]
  },
  {
   "cell_type": "code",
   "execution_count": null,
   "metadata": {},
   "outputs": [],
   "source": [
    "L=[ 1, 2, 3, 4, 5]"
   ]
  },
  {
   "cell_type": "code",
   "execution_count": null,
   "metadata": {},
   "outputs": [],
   "source": [
    "L?"
   ]
  },
  {
   "cell_type": "code",
   "execution_count": null,
   "metadata": {},
   "outputs": [],
   "source": [
    "def square(a):\n",
    "    \"\"\"加上註解說明(triple-quote notation) Return the square of a.\"\"\"\n",
    "    return a ** 2"
   ]
  },
  {
   "cell_type": "code",
   "execution_count": null,
   "metadata": {},
   "outputs": [],
   "source": [
    "square?"
   ]
  },
  {
   "cell_type": "markdown",
   "metadata": {},
   "source": [
    "## Accessing Source Code with ??"
   ]
  },
  {
   "cell_type": "code",
   "execution_count": null,
   "metadata": {},
   "outputs": [],
   "source": [
    "square??"
   ]
  },
  {
   "cell_type": "markdown",
   "metadata": {},
   "source": [
    "## Beyond tab completion: wildcard matching \" * \" 萬用字元"
   ]
  },
  {
   "cell_type": "code",
   "execution_count": null,
   "metadata": {},
   "outputs": [],
   "source": [
    "*Warning?"
   ]
  },
  {
   "cell_type": "code",
   "execution_count": null,
   "metadata": {},
   "outputs": [],
   "source": [
    "str.*find*?"
   ]
  },
  {
   "cell_type": "markdown",
   "metadata": {},
   "source": [
    "## Running External Code: %run   where \"%\" is the magic command"
   ]
  },
  {
   "cell_type": "code",
   "execution_count": null,
   "metadata": {},
   "outputs": [
    {
     "name": "stderr",
     "output_type": "stream",
     "text": [
      "ERROR:root:File `'myfirst.py'` not found.\n"
     ]
    }
   ],
   "source": [
    "%run myfirst.py"
   ]
  },
  {
   "cell_type": "markdown",
   "metadata": {},
   "source": [
    "## Timing Code Execution: %timeit"
   ]
  },
  {
   "cell_type": "code",
   "execution_count": null,
   "metadata": {},
   "outputs": [
    {
     "name": "stdout",
     "output_type": "stream",
     "text": [
      "329 µs ± 3.19 µs per loop (mean ± std. dev. of 7 runs, 1000 loops each)\n"
     ]
    }
   ],
   "source": [
    "%timeit L = [n ** 2 for n in range(1000)]"
   ]
  },
  {
   "cell_type": "code",
   "execution_count": null,
   "metadata": {},
   "outputs": [
    {
     "data": {
      "text/plain": [
       "range(0, 1000)"
      ]
     },
     "execution_count": 28,
     "metadata": {},
     "output_type": "execute_result"
    }
   ],
   "source": [
    "range(1000)"
   ]
  },
  {
   "cell_type": "markdown",
   "metadata": {},
   "source": [
    "##  Input and Output History "
   ]
  },
  {
   "cell_type": "code",
   "execution_count": null,
   "metadata": {},
   "outputs": [],
   "source": [
    "import math"
   ]
  },
  {
   "cell_type": "code",
   "execution_count": null,
   "metadata": {},
   "outputs": [
    {
     "data": {
      "text/plain": [
       "0.9092974268256817"
      ]
     },
     "execution_count": 31,
     "metadata": {},
     "output_type": "execute_result"
    }
   ],
   "source": [
    "math.sin(2)"
   ]
  },
  {
   "cell_type": "code",
   "execution_count": null,
   "metadata": {},
   "outputs": [
    {
     "data": {
      "text/plain": [
       "-0.4161468365471424"
      ]
     },
     "execution_count": 34,
     "metadata": {},
     "output_type": "execute_result"
    }
   ],
   "source": [
    "math.cos(2)"
   ]
  },
  {
   "cell_type": "code",
   "execution_count": null,
   "metadata": {},
   "outputs": [
    {
     "name": "stdout",
     "output_type": "stream",
     "text": [
      "  10: plot([1,-2,3,0])\n",
      "  11: plot(0,0, marker='*')\n",
      "  12: plot(0,0, marker='*', markeredgecolor='b')\n",
      "  13: plot(0,0, marker='*', markersize=120, markeredgecolor='b' )\n",
      "  14: plot(0,0, marker='*', markersize=120, color= 'b', markeredgecolor='b' )\n",
      "  15: plot(0,0, marker='*', markersize=120, color= 'b', markeredgecolor='r' )\n"
     ]
    }
   ],
   "source": [
    " %history -n 10-15"
   ]
  },
  {
   "cell_type": "markdown",
   "metadata": {},
   "source": [
    "##  Shell script commands"
   ]
  },
  {
   "cell_type": "code",
   "execution_count": null,
   "metadata": {},
   "outputs": [
    {
     "name": "stdout",
     "output_type": "stream",
     "text": [
      "\"hello world!\"\n"
     ]
    }
   ],
   "source": [
    "!echo \"hello world!\""
   ]
  },
  {
   "cell_type": "code",
   "execution_count": null,
   "metadata": {},
   "outputs": [
    {
     "name": "stdout",
     "output_type": "stream",
     "text": [
      " 磁碟區 C 中的磁碟沒有標籤。\n",
      " 磁碟區序號:  C662-DE4F\n",
      "\n",
      " C:\\Users\\TWP 的目錄\n",
      "\n",
      "2022/01/28  下午 04:54    <DIR>          .\n",
      "2022/01/28  下午 04:54    <DIR>          ..\n",
      "2020/03/03  下午 09:04    <DIR>          .anaconda\n",
      "2022/03/01  上午 08:12    <DIR>          .conda\n",
      "2022/03/01  上午 07:35                43 .condarc\n",
      "2020/03/04  上午 10:28    <DIR>          .config\n",
      "2021/06/09  上午 10:08    <DIR>          .ipynb_checkpoints\n",
      "2019/11/18  下午 05:39    <DIR>          .ipython\n",
      "2021/06/16  上午 10:35    <DIR>          .jupyter\n",
      "2020/03/03  下午 09:48    <DIR>          .matplotlib\n",
      "2020/03/04  上午 10:30    <DIR>          .spyder-py3\n",
      "2022/02/09  下午 05:59    <DIR>          3D Objects\n",
      "2021/10/22  下午 07:43    <DIR>          Anaconda3\n",
      "2019/07/30  下午 05:37    <DIR>          ansel\n",
      "2022/02/09  下午 05:59    <DIR>          Contacts\n",
      "2022/03/01  上午 07:36    <DIR>          Desktop\n",
      "2022/02/09  下午 05:59    <DIR>          Documents\n",
      "2022/02/28  下午 03:48    <DIR>          Downloads\n",
      "2022/02/09  下午 05:59    <DIR>          Favorites\n",
      "2022/02/09  下午 05:59    <DIR>          Links\n",
      "2022/02/09  下午 05:59    <DIR>          Music\n",
      "2022/02/09  下午 05:59    <DIR>          Pictures\n",
      "2022/02/09  下午 05:59    <DIR>          Saved Games\n",
      "2020/05/17  上午 09:48    <DIR>          scikit_learn_data\n",
      "2022/02/09  下午 05:59    <DIR>          Searches\n",
      "2020/03/04  上午 09:37             1,943 Untitled.ipynb\n",
      "2020/03/10  上午 08:59             3,964 Untitled1.ipynb\n",
      "2020/03/10  下午 06:33             2,293 Untitled2.ipynb\n",
      "2020/04/01  上午 08:35             1,783 Untitled3.ipynb\n",
      "2021/06/09  下午 12:10            55,671 Untitled4.ipynb\n",
      "2022/02/09  下午 05:59    <DIR>          Videos\n",
      "               6 個檔案          65,697 位元組\n",
      "              25 個目錄  175,833,382,912 位元組可用\n"
     ]
    }
   ],
   "source": [
    "!dir"
   ]
  },
  {
   "cell_type": "code",
   "execution_count": null,
   "metadata": {},
   "outputs": [
    {
     "name": "stderr",
     "output_type": "stream",
     "text": [
      "系統找不到指定的路徑。\n"
     ]
    }
   ],
   "source": [
    "!cd \\twp2019\\Class2020\\1082\\1082DataScience\\Labs"
   ]
  },
  {
   "cell_type": "code",
   "execution_count": null,
   "metadata": {},
   "outputs": [],
   "source": [
    "!mkdir test1"
   ]
  },
  {
   "cell_type": "code",
   "execution_count": null,
   "metadata": {},
   "outputs": [
    {
     "name": "stdout",
     "output_type": "stream",
     "text": [
      " 磁碟區 C 中的磁碟沒有標籤。\n",
      " 磁碟區序號:  C662-DE4F\n",
      "\n",
      " C:\\Users\\TWP 的目錄\n",
      "\n",
      "2022/03/01  上午 08:13    <DIR>          .\n",
      "2022/03/01  上午 08:13    <DIR>          ..\n",
      "2020/03/03  下午 09:04    <DIR>          .anaconda\n",
      "2022/03/01  上午 08:12    <DIR>          .conda\n",
      "2022/03/01  上午 07:35                43 .condarc\n",
      "2020/03/04  上午 10:28    <DIR>          .config\n",
      "2021/06/09  上午 10:08    <DIR>          .ipynb_checkpoints\n",
      "2019/11/18  下午 05:39    <DIR>          .ipython\n",
      "2021/06/16  上午 10:35    <DIR>          .jupyter\n",
      "2020/03/03  下午 09:48    <DIR>          .matplotlib\n",
      "2020/03/04  上午 10:30    <DIR>          .spyder-py3\n",
      "2022/02/09  下午 05:59    <DIR>          3D Objects\n",
      "2021/10/22  下午 07:43    <DIR>          Anaconda3\n",
      "2019/07/30  下午 05:37    <DIR>          ansel\n",
      "2022/02/09  下午 05:59    <DIR>          Contacts\n",
      "2022/03/01  上午 07:36    <DIR>          Desktop\n",
      "2022/02/09  下午 05:59    <DIR>          Documents\n",
      "2022/02/28  下午 03:48    <DIR>          Downloads\n",
      "2022/02/09  下午 05:59    <DIR>          Favorites\n",
      "2022/02/09  下午 05:59    <DIR>          Links\n",
      "2022/02/09  下午 05:59    <DIR>          Music\n",
      "2022/02/09  下午 05:59    <DIR>          Pictures\n",
      "2022/02/09  下午 05:59    <DIR>          Saved Games\n",
      "2020/05/17  上午 09:48    <DIR>          scikit_learn_data\n",
      "2022/02/09  下午 05:59    <DIR>          Searches\n",
      "2022/03/01  上午 08:13    <DIR>          test1\n",
      "2020/03/04  上午 09:37             1,943 Untitled.ipynb\n",
      "2020/03/10  上午 08:59             3,964 Untitled1.ipynb\n",
      "2020/03/10  下午 06:33             2,293 Untitled2.ipynb\n",
      "2020/04/01  上午 08:35             1,783 Untitled3.ipynb\n",
      "2021/06/09  下午 12:10            55,671 Untitled4.ipynb\n",
      "2022/02/09  下午 05:59    <DIR>          Videos\n",
      "               6 個檔案          65,697 位元組\n",
      "              26 個目錄  175,833,378,816 位元組可用\n"
     ]
    }
   ],
   "source": [
    "!dir"
   ]
  },
  {
   "cell_type": "code",
   "execution_count": null,
   "metadata": {},
   "outputs": [
    {
     "name": "stdout",
     "output_type": "stream",
     "text": [
      "C:\\Users\\TWP\\test1\n"
     ]
    }
   ],
   "source": [
    "cd test1"
   ]
  },
  {
   "cell_type": "code",
   "execution_count": null,
   "metadata": {},
   "outputs": [
    {
     "name": "stdout",
     "output_type": "stream",
     "text": [
      " 磁碟區 C 中的磁碟沒有標籤。\n",
      " 磁碟區序號:  C662-DE4F\n",
      "\n",
      " C:\\Users\\TWP\\test1 的目錄\n",
      "\n",
      "2022/03/01  上午 08:13    <DIR>          .\n",
      "2022/03/01  上午 08:13    <DIR>          ..\n",
      "               0 個檔案               0 位元組\n",
      "               2 個目錄  175,833,366,528 位元組可用\n"
     ]
    }
   ],
   "source": [
    "!dir"
   ]
  },
  {
   "cell_type": "code",
   "execution_count": null,
   "metadata": {},
   "outputs": [
    {
     "name": "stdout",
     "output_type": "stream",
     "text": [
      "C:\\Users\\TWP\n"
     ]
    }
   ],
   "source": [
    "%cd .."
   ]
  },
  {
   "cell_type": "code",
   "execution_count": null,
   "metadata": {},
   "outputs": [
    {
     "data": {
      "text/plain": [
       "'C:\\\\twp2019\\\\Class2020\\\\1082\\\\1082DataScience\\\\Labs\\\\old_lab'"
      ]
     },
     "execution_count": 35,
     "metadata": {},
     "output_type": "execute_result"
    }
   ],
   "source": [
    "%pwd"
   ]
  },
  {
   "cell_type": "code",
   "execution_count": null,
   "metadata": {},
   "outputs": [
    {
     "name": "stdout",
     "output_type": "stream",
     "text": [
      " 磁碟區 C 中的磁碟沒有標籤。\n",
      " 磁碟區序號:  C662-DE4F\n",
      "\n",
      " C:\\Users\\TWP 的目錄\n",
      "\n",
      "2022/03/01  上午 08:13    <DIR>          .\n",
      "2022/03/01  上午 08:13    <DIR>          ..\n",
      "2020/03/03  下午 09:04    <DIR>          .anaconda\n",
      "2022/03/01  上午 08:13    <DIR>          .conda\n",
      "2022/03/01  上午 07:35                43 .condarc\n",
      "2020/03/04  上午 10:28    <DIR>          .config\n",
      "2021/06/09  上午 10:08    <DIR>          .ipynb_checkpoints\n",
      "2019/11/18  下午 05:39    <DIR>          .ipython\n",
      "2021/06/16  上午 10:35    <DIR>          .jupyter\n",
      "2020/03/03  下午 09:48    <DIR>          .matplotlib\n",
      "2020/03/04  上午 10:30    <DIR>          .spyder-py3\n",
      "2022/02/09  下午 05:59    <DIR>          3D Objects\n",
      "2021/10/22  下午 07:43    <DIR>          Anaconda3\n",
      "2019/07/30  下午 05:37    <DIR>          ansel\n",
      "2022/02/09  下午 05:59    <DIR>          Contacts\n",
      "2022/03/01  上午 07:36    <DIR>          Desktop\n",
      "2022/02/09  下午 05:59    <DIR>          Documents\n",
      "2022/02/28  下午 03:48    <DIR>          Downloads\n",
      "2022/02/09  下午 05:59    <DIR>          Favorites\n",
      "2022/02/09  下午 05:59    <DIR>          Links\n",
      "2022/02/09  下午 05:59    <DIR>          Music\n",
      "2022/02/09  下午 05:59    <DIR>          Pictures\n",
      "2022/02/09  下午 05:59    <DIR>          Saved Games\n",
      "2020/05/17  上午 09:48    <DIR>          scikit_learn_data\n",
      "2022/02/09  下午 05:59    <DIR>          Searches\n",
      "2022/03/01  上午 08:13    <DIR>          test1\n",
      "2020/03/04  上午 09:37             1,943 Untitled.ipynb\n",
      "2020/03/10  上午 08:59             3,964 Untitled1.ipynb\n",
      "2020/03/10  下午 06:33             2,293 Untitled2.ipynb\n",
      "2020/04/01  上午 08:35             1,783 Untitled3.ipynb\n",
      "2021/06/09  下午 12:10            55,671 Untitled4.ipynb\n",
      "2022/02/09  下午 05:59    <DIR>          Videos\n",
      "               6 個檔案          65,697 位元組\n",
      "              26 個目錄  175,833,124,864 位元組可用\n"
     ]
    }
   ],
   "source": [
    "%ls"
   ]
  },
  {
   "cell_type": "code",
   "execution_count": null,
   "metadata": {},
   "outputs": [
    {
     "name": "stdout",
     "output_type": "stream",
     "text": [
      "apple\n",
      "banana\n",
      "cherry\n"
     ]
    }
   ],
   "source": [
    "fruits = [\"apple\", \"banana\", \"cherry\"]\n",
    "for x in fruits:\n",
    "    print(x)"
   ]
  },
  {
   "cell_type": "code",
   "execution_count": null,
   "metadata": {},
   "outputs": [
    {
     "name": "stdout",
     "output_type": "stream",
     "text": [
      "b\n",
      "a\n",
      "n\n",
      "a\n",
      "n\n",
      "a\n"
     ]
    }
   ],
   "source": [
    "for x in \"banana\":\n",
    "    print(x)"
   ]
  },
  {
   "cell_type": "code",
   "execution_count": null,
   "metadata": {},
   "outputs": [
    {
     "ename": "",
     "evalue": "",
     "output_type": "error",
     "traceback": [
      "\u001b[1;31mRunning cells with 'Python 3.6.8 64-bit' requires ipykernel package.\n",
      "Run the following command to install 'ipykernel' into the Python environment. \n",
      "Command: 'C:/Users/LAB1223/AppData/Local/Programs/Python/Python36/python.exe -m pip install ipykernel -U --user --force-reinstall'"
     ]
    }
   ],
   "source": [
    "fruits = [\"apple\", \"banana\", \"cherry\"]\n",
    "for x in fruits:\n",
    "    print(x) \n",
    "    if x == \"banana\":\n",
    "        break"
   ]
  },
  {
   "cell_type": "code",
   "execution_count": null,
   "metadata": {},
   "outputs": [
    {
     "name": "stdout",
     "output_type": "stream",
     "text": [
      "apple\n",
      "banana\n"
     ]
    }
   ],
   "source": [
    "fruits = [\"apple\", \"banana\", \"cherry\"]\n",
    "for x in fruits:\n",
    "    print(x) \n",
    "    if x == \"banana\":\n",
    "        break"
   ]
  },
  {
   "cell_type": "code",
   "execution_count": null,
   "metadata": {},
   "outputs": [
    {
     "name": "stdout",
     "output_type": "stream",
     "text": [
      "apple\n"
     ]
    }
   ],
   "source": [
    "fruits = [\"apple\", \"banana\", \"cherry\"]\n",
    "for x in fruits:\n",
    "    if x == \"banana\":\n",
    "        break\n",
    "    print(x)"
   ]
  },
  {
   "cell_type": "code",
   "execution_count": null,
   "metadata": {},
   "outputs": [
    {
     "name": "stdout",
     "output_type": "stream",
     "text": [
      "apple\n",
      "cherry\n"
     ]
    }
   ],
   "source": [
    "fruits = [\"apple\", \"banana\", \"cherry\"]\n",
    "for x in fruits:\n",
    "    if x == \"banana\":\n",
    "        continue\n",
    "    print(x)"
   ]
  },
  {
   "cell_type": "code",
   "execution_count": null,
   "metadata": {},
   "outputs": [
    {
     "name": "stdout",
     "output_type": "stream",
     "text": [
      "0\n",
      "1\n",
      "2\n"
     ]
    }
   ],
   "source": [
    "for x in range(3):\n",
    "    print(x)"
   ]
  },
  {
   "cell_type": "code",
   "execution_count": null,
   "metadata": {},
   "outputs": [
    {
     "name": "stdout",
     "output_type": "stream",
     "text": [
      "2\n",
      "3\n"
     ]
    }
   ],
   "source": [
    "for x in range(2, 4):\n",
    "    print(x)"
   ]
  },
  {
   "cell_type": "code",
   "execution_count": null,
   "metadata": {},
   "outputs": [
    {
     "name": "stdout",
     "output_type": "stream",
     "text": [
      "2\n",
      "5\n",
      "8\n",
      "11\n"
     ]
    }
   ],
   "source": [
    "for x in range(2, 12, 3):\n",
    "      print(x)"
   ]
  },
  {
   "cell_type": "code",
   "execution_count": null,
   "metadata": {},
   "outputs": [
    {
     "name": "stdout",
     "output_type": "stream",
     "text": [
      "red apple\n",
      "red banana\n",
      "red cherry\n",
      "big apple\n",
      "big banana\n",
      "big cherry\n",
      "tasty apple\n",
      "tasty banana\n",
      "tasty cherry\n"
     ]
    }
   ],
   "source": [
    "adj = [\"red\", \"big\", \"tasty\"]\n",
    "fruits = [\"apple\", \"banana\", \"cherry\"]\n",
    "for x in adj:\n",
    "    for y in fruits:\n",
    "        print(x, y)"
   ]
  },
  {
   "cell_type": "markdown",
   "metadata": {},
   "source": [
    "##  Turn in your Homework 1  to i-學園 by 3/15/2022. Add your personal information at the first cell by \"Markdown\" selection.\n",
    "\n",
    "(1) Use Jupyter to print the Math Equation.\n",
    "\n",
    "(2) Use Jupyter to write a function of calculating \"Factorial\" for an input integer \"a\". Add some function usage information. "
   ]
  },
  {
   "cell_type": "markdown",
   "metadata": {},
   "source": [
    "### Problem (1)"
   ]
  },
  {
   "cell_type": "markdown",
   "metadata": {},
   "source": [
    "$$r_{im} = -[\\dfrac{\\partial L(y_i, f(x_i))}{\\partial f(x_i)}]_{f=f_m-1}$$"
   ]
  },
  {
   "cell_type": "markdown",
   "metadata": {},
   "source": [
    "### Problem (2)"
   ]
  },
  {
   "cell_type": "code",
   "execution_count": 1,
   "metadata": {},
   "outputs": [
    {
     "data": {
      "text/plain": [
       "120"
      ]
     },
     "execution_count": 1,
     "metadata": {},
     "output_type": "execute_result"
    }
   ],
   "source": [
    "def factorial(a):\n",
    "    result = 1\n",
    "    for i in range(1, a+1): result *= i\n",
    "    return result\n",
    "\n",
    "'''\n",
    "a = int(input())\n",
    "factorial(a)\n",
    "'''\n",
    "\n",
    "factorial(5)"
   ]
  }
 ],
 "metadata": {
  "kernelspec": {
   "display_name": "Python 3",
   "language": "python",
   "name": "python3"
  },
  "language_info": {
   "codemirror_mode": {
    "name": "ipython",
    "version": 3
   },
   "file_extension": ".py",
   "mimetype": "text/x-python",
   "name": "python",
   "nbconvert_exporter": "python",
   "pygments_lexer": "ipython3",
   "version": "3.6.8"
  }
 },
 "nbformat": 4,
 "nbformat_minor": 2
}
