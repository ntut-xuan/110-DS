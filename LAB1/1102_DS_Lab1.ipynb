{
 "cells": [
  {
   "cell_type": "markdown",
   "metadata": {},
   "source": [
    "# Personal Information\n",
    "\n",
    "109590031 資工二 黃漢軒\n",
    "\n",
    "[My website](https://ntut-xuan.github.io)"
   ]
  },
  {
   "cell_type": "markdown",
   "metadata": {},
   "source": [
    "##  Turn in your Homework 1  to i-學園 by 3/15/2022. Add your personal information at the first cell by \"Markdown\" selection.\n",
    "\n",
    "(1) Use Jupyter to print the Math Equation.\n",
    "\n",
    "(2) Use Jupyter to write a function of calculating \"Factorial\" for an input integer \"a\". Add some function usage information. "
   ]
  },
  {
   "cell_type": "markdown",
   "metadata": {},
   "source": [
    "### Problem (1)"
   ]
  },
  {
   "cell_type": "markdown",
   "metadata": {},
   "source": [
    "$$ f(x) = x^2+2x+1 $$"
   ]
  },
  {
   "cell_type": "markdown",
   "metadata": {},
   "source": [
    "$$\\displaystyle \\int^{a}_b f(x) dx$$"
   ]
  },
  {
   "cell_type": "markdown",
   "metadata": {},
   "source": [
    "<div style=\"width: 100%\">\n",
    "    <div style=\"width: fit-content; margin-left: auto; margin-right: auto;\">\n",
    "        <img src=\"./HW1_EQ.png\" style=\"margin-left: auto; margin-right: auto;\">\n",
    "    </div>\n",
    "</div>"
   ]
  },
  {
   "cell_type": "markdown",
   "metadata": {},
   "source": [
    "$$\\text{For } i = 1, 2, ..., N \\text{ compute } r_{im} = -[\\dfrac{\\partial L(y_i, f(x_i))}{\\partial f(x_i)}]_{f=f_m-1}$$"
   ]
  },
  {
   "cell_type": "markdown",
   "metadata": {},
   "source": [
    "### Problem (2)"
   ]
  },
  {
   "cell_type": "code",
   "execution_count": 1,
   "metadata": {},
   "outputs": [
    {
     "data": {
      "text/plain": [
       "120"
      ]
     },
     "execution_count": 1,
     "metadata": {},
     "output_type": "execute_result"
    }
   ],
   "source": [
    "def factorial(a):\n",
    "    result = 1\n",
    "    for i in range(1, a+1): result *= i\n",
    "    return result\n",
    "\n",
    "'''\n",
    "a = int(input())\n",
    "factorial(a)\n",
    "'''\n",
    "\n",
    "factorial(5)"
   ]
  }
 ],
 "metadata": {
  "kernelspec": {
   "display_name": "Python 3",
   "language": "python",
   "name": "python3"
  },
  "language_info": {
   "codemirror_mode": {
    "name": "ipython",
    "version": 3
   },
   "file_extension": ".py",
   "mimetype": "text/x-python",
   "name": "python",
   "nbconvert_exporter": "python",
   "pygments_lexer": "ipython3",
   "version": "3.6.8"
  }
 },
 "nbformat": 4,
 "nbformat_minor": 2
}
